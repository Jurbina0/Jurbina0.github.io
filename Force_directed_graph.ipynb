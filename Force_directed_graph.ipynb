{
 "cells": [
  {
   "cell_type": "markdown",
   "id": "d81aaa9f-ab26-45e2-857f-f3bbb8c08251",
   "metadata": {},
   "source": [
    "# Force-Directed Graph"
   ]
  },
  {
   "cell_type": "markdown",
   "id": "c7ff8d35-95f3-4592-b9d2-16a0cb733fa1",
   "metadata": {},
   "source": [
    "Visualización de un grafo dirigido con posicionamiento basado en fuerzas mediante la librería [D3graph](https://erdogant.github.io/d3graph/pages/html/index.html) de python.\n",
    "\n",
    "Los datos se han creado sintéticamente en base a la profundidad de la relación afectuosa entre conocidos de la usuaria de Github."
   ]
  },
  {
   "cell_type": "code",
   "execution_count": 1,
   "id": "bbae8084-d62e-495c-b732-b06d513943a0",
   "metadata": {},
   "outputs": [
    {
     "name": "stderr",
     "output_type": "stream",
     "text": [
      "/home/lenovo/anaconda3/lib/python3.9/site-packages/pandas/core/arrays/masked.py:60: UserWarning: Pandas requires version '1.3.6' or newer of 'bottleneck' (version '1.3.5' currently installed).\n",
      "  from pandas.core import (\n",
      "[d3graph] INFO> Set directed=True to see the markers!\n",
      "[d3graph] INFO> Keep only edges with weight>0\n",
      "[d3graph] INFO> Converting source-target into adjacency matrix..\n",
      "[d3graph] INFO> Making the matrix symmetric..\n",
      "[d3graph] INFO> Converting adjacency matrix into source-target..\n",
      "[d3graph] INFO> Number of unique nodes: 5\n",
      "[d3graph] INFO> Converting adjacency matrix into source-target..\n",
      "[d3graph] INFO> Number of unique nodes: 5\n",
      "[d3graph] INFO> Keep only edges with weight>0\n",
      "[d3graph] INFO> Converting source-target into adjacency matrix..\n",
      "[d3graph] INFO> Making the matrix symmetric..\n",
      "[d3graph] INFO> Slider range is set to [0, 6]\n",
      "[d3graph] INFO> Write to path: [/home/lenovo/Escritorio/MSc/VDD/PEC2/visualizations/forcedirectedgraph.html]\n",
      "[d3graph] INFO> File already exists and will be overwritten: [/home/lenovo/Escritorio/MSc/VDD/PEC2/visualizations/forcedirectedgraph.html]\n"
     ]
    }
   ],
   "source": [
    "from d3graph import d3graph, vec2adjmat\n",
    "filepath = '/home/lenovo/Escritorio/MSc/VDD/PEC2/visualizations'\n",
    "source = ['nebi','nebi','nebi','nebi','nines']\n",
    "target = ['nines','patty','nines_friend','toni','nines_friend']\n",
    "weight = [4, 2, 1, 6, 5]\n",
    "labels = ['Nines', 'Friend of Nines', 'Patty', 'Toni', 'Nebi']\n",
    "\n",
    "adjmat = vec2adjmat(source=source, target=target, weight=weight)\n",
    "\n",
    "d3 = d3graph()\n",
    "\n",
    "d3.graph(adjmat)\n",
    "d3.set_node_properties(label=labels, tooltip = 'Conocido', cmap = 'Set2')\n",
    "d3.set_edge_properties(directed=True)\n",
    "\n",
    "d3.show(filepath=filepath+'/forcedirectedgraph.html', set_slider=1, click={'fill': '#00FF00', 'stroke': '#000000'})"
   ]
  }
 ],
 "metadata": {
  "kernelspec": {
   "display_name": "Python 3 (ipykernel)",
   "language": "python",
   "name": "python3"
  },
  "language_info": {
   "codemirror_mode": {
    "name": "ipython",
    "version": 3
   },
   "file_extension": ".py",
   "mimetype": "text/x-python",
   "name": "python",
   "nbconvert_exporter": "python",
   "pygments_lexer": "ipython3",
   "version": "3.9.19"
  }
 },
 "nbformat": 4,
 "nbformat_minor": 5
}
